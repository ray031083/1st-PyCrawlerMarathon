{
 "cells": [
  {
   "cell_type": "markdown",
   "metadata": {},
   "source": [
    "# API 資料串接 - 以 Dcard API 實作範例\n",
    "\n",
    "* 了解 Dcard API 使用方式與回傳內容\n",
    "* 撰寫程式存取 API 且解析 JSON 格式資料\n"
   ]
  },
  {
   "cell_type": "markdown",
   "metadata": {},
   "source": [
    "## 作業目標\n",
    "\n",
    "* 請利用 API: https://www.dcard.tw/_api/forums/pet/posts?popular=true 回答下列問題：\n",
    "\n",
    "1. 這個 API 一次會回傳幾筆資料？每一筆資料包含哪些欄位？\n",
    "2. 取出每一筆資料的「標題」、「貼文時間」、「留言人數」、「按讚人數」\n",
    "3. 計算熱門/非熱門文章的「平均留言人數」與「平均按讚人數」"
   ]
  },
  {
   "cell_type": "code",
   "execution_count": 1,
   "metadata": {},
   "outputs": [
    {
     "name": "stdout",
     "output_type": "stream",
     "text": [
      "30\n",
      "id\n",
      "title\n",
      "excerpt\n",
      "anonymousSchool\n",
      "anonymousDepartment\n",
      "pinned\n",
      "forumId\n",
      "replyId\n",
      "createdAt\n",
      "updatedAt\n",
      "commentCount\n",
      "likeCount\n",
      "withNickname\n",
      "tags\n",
      "topics\n",
      "meta\n",
      "forumName\n",
      "forumAlias\n",
      "nsfw\n",
      "gender\n",
      "school\n",
      "replyTitle\n",
      "mediaMeta\n",
      "reactions\n",
      "hidden\n",
      "customStyle\n",
      "isSuspiciousAccount\n",
      "layout\n",
      "withImages\n",
      "withVideos\n",
      "media\n",
      "reportReasonText\n",
      "excerptComments\n",
      "postAvatar\n"
     ]
    }
   ],
   "source": [
    "# 1. 這個 API 一次會回傳幾筆資料？每一筆資料包含哪些欄位？\n",
    "\n",
    "import requests, json\n",
    "\n",
    "r = requests.get('http://www.dcard.tw/_api/forums/pet/posts?popular=true')\n",
    "response = r.text\n",
    "\n",
    "data = json.loads(response)\n",
    "print(len(data))\n",
    "for i in data[0]:\n",
    "    print(i)"
   ]
  },
  {
   "cell_type": "code",
   "execution_count": 2,
   "metadata": {},
   "outputs": [
    {
     "name": "stdout",
     "output_type": "stream",
     "text": [
      "沒有經濟能力真的不要養寵物（影） 2020-09-03T10:53:28.552Z 119 502\n",
      "腳臭臭 2020-09-03T07:28:37.513Z 27 412\n",
      "養貓的十大崩潰 2020-09-03T15:34:26.756Z 23 393\n",
      "我家有藍貓 2020-09-02T18:34:58.688Z 13 294\n",
      "你到底怎麽上來的喇 2020-09-02T23:53:30.784Z 22 118\n",
      "像玩具的可愛柯爾鴨 2020-09-03T22:19:39.008Z 7 37\n",
      "單身28年養隻貓終於感覺值回票價了 2020-09-03T15:18:26.381Z 3 24\n",
      "有人認得這隻嗎🙇‍♂️🙇‍♂️ 2020-09-03T17:08:22.329Z 4 18\n",
      "#貓咪 #手掌發霉 2020-09-02T17:56:40.640Z 4 18\n",
      "表情包的🐱 2020-09-03T23:52:59.851Z 0 15\n",
      "撿到小黑柴 2020-09-03T12:35:47.757Z 19 14\n",
      "我的貓喘成這樣正常嗎？ 2020-09-04T02:45:40.915Z 6 10\n",
      "我要打十\"茲\" 2020-09-03T06:48:09.930Z 0 9\n",
      "這睡姿....😏😏 2020-09-02T23:07:46.782Z 1 9\n",
      "拜託救救我的小寶貝😭 2020-09-03T15:38:54.621Z 2 7\n",
      "寵物攝影-邦尼是個星球 拍攝分享 2020-09-03T03:26:44.606Z 0 6\n",
      "（代po）彰化 玳瑁、黑小貓 領養 2020-09-03T07:33:53.419Z 2 5\n",
      "假柴犬真二哈 2020-09-04T04:27:07.513Z 1 4\n",
      "想問狗狗品種🥺 2020-09-03T19:56:37.860Z 5 3\n",
      "偷玩手機的鬥鬥 2020-09-03T19:28:09.231Z 0 3\n",
      "請益 黃金鼠鼠球 2020-09-03T05:33:44.125Z 5 3\n",
      "鬥魚弄了一堆泡泡 2020-09-03T00:28:42.970Z 15 3\n",
      "詢問 倉鼠耳後掉毛😢 2020-09-03T15:34:44.305Z 2 2\n",
      "(ت)八哥是小奶狗 2020-09-03T08:05:27.604Z 0 2\n",
      "過世的狗狗還這樣拉這樣重摔不對吧？ 2020-09-03T05:29:22.752Z 2 2\n",
      "今天我生日！ 2020-09-04T05:12:42.357Z 1 1\n",
      "問 黃金鼠準備事項 2020-09-04T05:00:40.345Z 0 1\n",
      "【新北三重送養】親人賓士小奶貓 2020-09-04T02:41:58.635Z 0 1\n",
      "‼️寵物送養勸世‼️拜託請不要小看情侶一起共同養一隻寵物這件事‼️ 2020-09-03T18:31:41.091Z 1 1\n",
      "可愛的狗🐶 2020-09-03T17:16:07.066Z 0 1\n"
     ]
    }
   ],
   "source": [
    "# 2. 取出每一筆資料的「標題」、「貼文時間」、「留言人數」、「按讚人數」\n",
    "\n",
    "for d in data:\n",
    "    print(d['title'],d['createdAt'],d['commentCount'],d['likeCount'])"
   ]
  },
  {
   "cell_type": "code",
   "execution_count": 3,
   "metadata": {},
   "outputs": [
    {
     "name": "stdout",
     "output_type": "stream",
     "text": [
      "9.466666666666667 63.93333333333333 8.433333333333334 50.166666666666664\n"
     ]
    }
   ],
   "source": [
    "# 3. 計算熱門/非熱門文章的「平均留言人數」與「平均按讚人數」\n",
    "commentSum = 0\n",
    "commentAvg = 0\n",
    "likeSum = 0\n",
    "likeAvg = 0\n",
    "n_commentSum = 0\n",
    "n_commentAvg = 0\n",
    "n_likeSum = 0\n",
    "n_likeAvg = 0\n",
    "\n",
    "for i in data:\n",
    "    commentSum += i['commentCount']\n",
    "    likeSum += i['likeCount']\n",
    "commentAvg = commentSum / len(data)\n",
    "likeAvg = likeSum / len(data)\n",
    "\n",
    "np = requests.get('http://www.dcard.tw/_api/forums/pet/posts?popular=false')\n",
    "npr = np.text\n",
    "np_data = json.loads(npr)\n",
    "\n",
    "for i in np_data:\n",
    "    n_commentSum += i['commentCount']\n",
    "    n_likeSum += i['likeCount']\n",
    "n_commentAvg = n_commentSum / len(np_data)\n",
    "n_likeAvg = n_likeSum / len(data)\n",
    "\n",
    "print(commentAvg, likeAvg, n_commentAvg, n_likeAvg)"
   ]
  },
  {
   "cell_type": "code",
   "execution_count": null,
   "metadata": {},
   "outputs": [],
   "source": []
  },
  {
   "cell_type": "code",
   "execution_count": null,
   "metadata": {},
   "outputs": [],
   "source": []
  }
 ],
 "metadata": {
  "@webio": {
   "lastCommId": null,
   "lastKernelId": null
  },
  "kernelspec": {
   "display_name": "Python 3",
   "language": "python",
   "name": "python3"
  },
  "language_info": {
   "codemirror_mode": {
    "name": "ipython",
    "version": 3
   },
   "file_extension": ".py",
   "mimetype": "text/x-python",
   "name": "python",
   "nbconvert_exporter": "python",
   "pygments_lexer": "ipython3",
   "version": "3.7.3"
  }
 },
 "nbformat": 4,
 "nbformat_minor": 2
}
