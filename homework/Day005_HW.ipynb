{
 "cells": [
  {
   "cell_type": "markdown",
   "metadata": {},
   "source": [
    "# API 資料串接 - 以 Dcard API 實作範例\n",
    "\n",
    "* 了解 Dcard API 使用方式與回傳內容\n",
    "* 撰寫程式存取 API 且解析 JSON 格式資料\n"
   ]
  },
  {
   "cell_type": "markdown",
   "metadata": {},
   "source": [
    "## 作業目標\n",
    "\n",
    "* 請利用 API: https://www.dcard.tw/_api/forums/pet/posts?popular=true 回答下列問題：\n",
    "\n",
    "1. 這個 API 一次會回傳幾筆資料？每一筆資料包含哪些欄位？\n",
    "2. 取出每一筆資料的「標題」、「貼文時間」、「留言人數」、「按讚人數」\n",
    "3. 計算熱門/非熱門文章的「平均留言人數」與「平均按讚人數」"
   ]
  },
  {
   "cell_type": "code",
   "execution_count": 1,
   "metadata": {},
   "outputs": [
    {
     "name": "stdout",
     "output_type": "stream",
     "text": [
      "30\n",
      "id\n",
      "title\n",
      "excerpt\n",
      "anonymousSchool\n",
      "anonymousDepartment\n",
      "pinned\n",
      "forumId\n",
      "replyId\n",
      "createdAt\n",
      "updatedAt\n",
      "commentCount\n",
      "likeCount\n",
      "withNickname\n",
      "tags\n",
      "topics\n",
      "meta\n",
      "forumName\n",
      "forumAlias\n",
      "nsfw\n",
      "gender\n",
      "school\n",
      "replyTitle\n",
      "mediaMeta\n",
      "reactions\n",
      "hidden\n",
      "customStyle\n",
      "isSuspiciousAccount\n",
      "layout\n",
      "withImages\n",
      "withVideos\n",
      "media\n",
      "reportReasonText\n",
      "postAvatar\n"
     ]
    }
   ],
   "source": [
    "# 1. 這個 API 一次會回傳幾筆資料？每一筆資料包含哪些欄位？\n",
    "\n",
    "import requests, json\n",
    "\n",
    "r = requests.get('http://www.dcard.tw/_api/forums/pet/posts?popular=true')\n",
    "response = r.text\n",
    "\n",
    "data = json.loads(response)\n",
    "print(len(data))\n",
    "for i in data[0]:\n",
    "    print(i)"
   ]
  },
  {
   "cell_type": "code",
   "execution_count": 2,
   "metadata": {},
   "outputs": [
    {
     "name": "stdout",
     "output_type": "stream",
     "text": [
      "高雄11隻米克斯幼幼等一個家 2020-05-27T05:41:55.133Z 10 290\n",
      "我的貓有個摯愛的玩具 2020-05-27T02:52:41.029Z 7 158\n",
      "天使貓來著 2020-05-27T11:41:14.923Z 9 142\n",
      "養寵物得疥癬？ 2020-05-27T11:20:34.205Z 32 130\n",
      "貓咪剃毛恐龍造型🦖 2020-05-27T18:26:57.792Z 14 81\n",
      "一年的業餘中途 2020-05-27T09:02:56.205Z 8 59\n",
      "成為了鏟屎官的一員 2020-05-27T23:49:46.472Z 4 20\n",
      "#問 這是什麼動物 2020-05-27T10:31:08.366Z 16 20\n",
      "浮誇的睡姿 2020-05-27T10:17:19.683Z 0 20\n",
      "哈士奇天使的笑容 2020-05-28T03:09:12.891Z 3 19\n",
      "再見了奶茶 文長 2020-05-27T10:46:05.955Z 1 19\n",
      "我家阿柴尿好尿滿 2020-05-27T05:34:57.120Z 1 17\n",
      "#圖 等等你們在幹嘛？ 2020-05-27T11:12:05.481Z 4 16\n",
      "#圖 #柴犬 #黑柴 我家有隻樂透寶🐶 2020-05-27T12:26:04.696Z 4 15\n",
      "我的貓咪 2020-05-27T09:49:59.913Z 1 12\n",
      "姑姑領養的米克斯走丟，希望大家幫忙分享😭🙏🏼 2020-05-28T09:01:03.643Z 2 7\n",
      "沒有準備好以下幾點，不要輕易養寵物。 2020-05-28T08:13:23.286Z 3 7\n",
      "#貓奴必看 七大人氣貓砂評價整理 2020-05-27T12:51:24.532Z 3 7\n",
      "想一口咬死爹 2020-05-27T11:14:00.587Z 1 7\n",
      "養狗相關問題求助 2020-05-27T03:53:13.674Z 20 7\n",
      "老闆來一客鸚鵡手卷 2020-05-27T12:33:31.999Z 2 6\n",
      "貓奴主食罐推薦 2020-05-27T17:07:39.483Z 6 5\n",
      "#求問 貓咪飼料轉半乾半濕 2020-05-27T14:10:47.879Z 23 5\n",
      "貓貓 拆結的時候剪到肉!! 2020-05-27T12:48:12.127Z 1 5\n",
      "#台北 獵奇萌寵咖啡廳 2020-05-28T07:41:10.504Z 1 4\n",
      "下雨過後長恐龍🦖 2020-05-28T06:18:18.128Z 8 4\n",
      "撿到斑龜？應該是斑龜吧 2020-05-27T08:07:29.110Z 7 4\n",
      "送養文 馬爾濟斯 2020-05-27T05:51:28.287Z 19 4\n",
      "大家來討論 2020-05-27T03:26:00.313Z 4 4\n",
      "送養文 2020-05-28T07:00:44.654Z 2 3\n"
     ]
    }
   ],
   "source": [
    "# 2. 取出每一筆資料的「標題」、「貼文時間」、「留言人數」、「按讚人數」\n",
    "\n",
    "for d in data:\n",
    "    print(d['title'],d['createdAt'],d['commentCount'],d['likeCount'])"
   ]
  },
  {
   "cell_type": "code",
   "execution_count": 4,
   "metadata": {},
   "outputs": [
    {
     "name": "stdout",
     "output_type": "stream",
     "text": [
      "7.2 36.56666666666667 4.366666666666666 12.2\n"
     ]
    }
   ],
   "source": [
    "# 3. 計算熱門/非熱門文章的「平均留言人數」與「平均按讚人數」\n",
    "commentSum = 0\n",
    "likeSum = 0\n",
    "n_commentSum = 0\n",
    "n_likeSum = 0\n",
    "\n",
    "for i in data:\n",
    "    commentSum += i['commentCount']\n",
    "    likeSum += i['likeCount']\n",
    "commentSum /= len(data)\n",
    "likeSum /= len(data)\n",
    "\n",
    "np = requests.get('http://www.dcard.tw/_api/forums/pet/posts?popular=false')\n",
    "npr = np.text\n",
    "np_data = json.loads(npr)\n",
    "\n",
    "for i in np_data:\n",
    "    n_commentSum += i['commentCount']\n",
    "    n_likeSum += i['likeCount']\n",
    "n_commentSum /= len(np_data)\n",
    "n_likeSum /= len(data)\n",
    "\n",
    "print(commentSum, likeSum, n_commentSum, n_likeSum)"
   ]
  },
  {
   "cell_type": "code",
   "execution_count": null,
   "metadata": {},
   "outputs": [],
   "source": []
  },
  {
   "cell_type": "code",
   "execution_count": null,
   "metadata": {},
   "outputs": [],
   "source": []
  }
 ],
 "metadata": {
  "@webio": {
   "lastCommId": null,
   "lastKernelId": null
  },
  "kernelspec": {
   "display_name": "Python 3",
   "language": "python",
   "name": "python3"
  },
  "language_info": {
   "codemirror_mode": {
    "name": "ipython",
    "version": 3
   },
   "file_extension": ".py",
   "mimetype": "text/x-python",
   "name": "python",
   "nbconvert_exporter": "python",
   "pygments_lexer": "ipython3",
   "version": "3.7.3"
  }
 },
 "nbformat": 4,
 "nbformat_minor": 2
}
