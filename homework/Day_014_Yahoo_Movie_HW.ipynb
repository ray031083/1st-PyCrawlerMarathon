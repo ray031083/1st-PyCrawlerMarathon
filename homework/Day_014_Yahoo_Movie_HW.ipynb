{
 "cells": [
  {
   "cell_type": "markdown",
   "metadata": {},
   "source": [
    "# YAHOO電影爬蟲練習\n",
    "## 練習爬取電影放映資訊。必須逐步獲取電影的代號、放映地區、放映日期後，再送出查詢給伺服器。"
   ]
  },
  {
   "cell_type": "code",
   "execution_count": 1,
   "metadata": {},
   "outputs": [],
   "source": [
    "import requests\n",
    "import re\n",
    "from bs4 import BeautifulSoup"
   ]
  },
  {
   "cell_type": "markdown",
   "metadata": {},
   "source": [
    "### 先搜尋全部的電影代號(ID)資訊"
   ]
  },
  {
   "cell_type": "code",
   "execution_count": 2,
   "metadata": {},
   "outputs": [
    {
     "name": "stdout",
     "output_type": "stream",
     "text": [
      "Movie: 地下弒的秘密, ID: 10984\n",
      "Movie: 人造紀元：走進人類世, ID: 10979\n",
      "Movie: 劇場版高校艦隊, ID: 10978\n",
      "Movie: 被告, ID: 10969\n",
      "Movie: 阿比阿弟尋歌大冒險, ID: 10968\n",
      "Movie: 男人的一半還是男人, ID: 10967\n",
      "Movie: 詭憶, ID: 10960\n",
      "Movie: 浴血劍客, ID: 10957\n",
      "Movie: 奪命守門人, ID: 10952\n",
      "Movie: 藥頭大媽, ID: 10951\n",
      "Movie: 看不見的目擊者, ID: 10946\n",
      "Movie: 幻愛, ID: 10945\n",
      "Movie: 無聲, ID: 10926\n",
      "Movie: 少女與戰車最終章 第1+2話4D, ID: 10972\n",
      "Movie: 皮爾卡登：迷戀未來的人, ID: 10962\n",
      "Movie: his, ID: 10961\n",
      "Movie: 無價之保, ID: 10959\n",
      "Movie: 恐怖份子製造國度, ID: 10953\n",
      "Movie: 千年一問, ID: 10948\n",
      "Movie: 星際效應, ID: 10941\n",
      "Movie: 辛比的怪怪屋劇場版：幽靈獵人天空大進擊, ID: 10927\n",
      "Movie: 倒數反擊, ID: 10906\n",
      "Movie: 刑警沒有假期, ID: 10881\n",
      "Movie: 愛情列車長, ID: 10857\n",
      "Movie: 工作細胞特別上映版-強「菌」來襲！人體腸道大騷動！, ID: 10827\n",
      "Movie: 特斯拉, ID: 10942\n",
      "Movie: 遺落夢境, ID: 10937\n",
      "Movie: 交響狂人, ID: 10922\n",
      "Movie: 阿公當家, ID: 10914\n",
      "Movie: 刻在你心底的名字, ID: 10902\n",
      "Movie: 剪刀手愛德華, ID: 10901\n",
      "Movie: 森林特攻隊：大腳ㄚ家族, ID: 10894\n",
      "Movie: 捉魂鏡, ID: 10866\n",
      "Movie: 急先鋒, ID: 10443\n",
      "Movie: 紫羅蘭永恆花園電影版, ID: 10431\n",
      "Movie: 殺戮荒村, ID: 10903\n",
      "Movie: 電影哆啦A夢：大雄的新恐龍, ID: 10891\n",
      "Movie: 法蒂瑪的奇蹟, ID: 10882\n",
      "Movie: 皮諾丘的奇幻旅程, ID: 10921\n",
      "Movie: 寂寞調香師, ID: 10905\n",
      "Movie: 名偵探奶奶, ID: 10893\n",
      "Movie: 重裝救援：全境獵殺, ID: 10892\n",
      "Movie: 整容液, ID: 10889\n",
      "Movie: 消失的情人節, ID: 10870\n",
      "Movie: 麥路人, ID: 10900\n",
      "Movie: 小偷演員, ID: 10925\n",
      "Movie: 中央車站：數位修復版, ID: 10907\n",
      "Movie: 教會, ID: 10899\n",
      "Movie: 密弒直播, ID: 10888\n",
      "Movie: 特務搞飛機, ID: 10886\n",
      "Movie: 蠟筆小新：激戰！塗鴉王國與差不多四勇者, ID: 10874\n",
      "Movie: 戀愛與謊言, ID: 10909\n",
      "Movie: 花木蘭, ID: 8632\n",
      "Movie: 馗降：粽邪2, ID: 10787\n",
      "Movie: 美麗佳人歐蘭朵, ID: 10876\n",
      "Movie: 蘇州河, ID: 10858\n",
      "Movie: TENET天能, ID: 10433\n",
      "Movie: 最後的情書, ID: 10880\n",
      "Movie: 看不見的證人, ID: 10873\n",
      "Movie: 可不可以，你也剛好喜歡我, ID: 10473\n",
      "Movie: Fate/stay night [Heaven's Feel] III.春櫻之歌, ID: 10630\n",
      "Movie: 逃出立法院, ID: 10535\n",
      "Movie: 天劫倒數, ID: 10850\n",
      "Movie: 隱藏的畫家, ID: 10841\n",
      "Movie: 哈囉少女, ID: 10780\n",
      "Movie: 怪胎, ID: 10733\n",
      "Movie: 雙面追緝, ID: 10824\n",
      "Movie: 北海小英雄, ID: 10806\n",
      "Movie: 鋼鐵雨：深潛行動, ID: 10838\n",
      "Movie: 戀夏時光, ID: 10797\n",
      "Movie: 魔王的女兒, ID: 10730\n",
      "Movie: 翻供, ID: 10788\n",
      "Movie: 藍色恐懼：數位修復版, ID: 10775\n",
      "Movie: 打噴嚏, ID: 5350\n",
      "Movie: 角落小夥伴電影版：魔法繪本裡的新朋友, ID: 10647\n",
      "Movie: 死因無可疑, ID: 10755\n",
      "Movie: 頭號粉絲, ID: 10722\n",
      "Movie: 72小時前哨救援, ID: 10729\n",
      "Movie: 福島50英雄, ID: 10726\n",
      "Movie: 親愛的小孩, ID: 10720\n",
      "Movie: 玩命Online：雙槍對決, ID: 10659\n",
      "Movie: 天后小助理, ID: 10559\n",
      "Movie: 最瘋狂的旅程, ID: 10705\n",
      "Movie: 銀翼殺手最終版, ID: 10732\n",
      "Movie: 雙面遊戲, ID: 10642\n",
      "Movie: 1/2的魔法, ID: 10505\n",
      "Movie: 海邊走走, ID: 10495\n",
      "Movie: 陪你玩最大, ID: 10602\n",
      "Movie: 小魔花, ID: 10068\n",
      "Movie: 不愛鋼琴師, ID: 10542\n",
      "Movie: 巧虎電影：英雄遊樂園, ID: 10429\n",
      "Movie: AI終結戰, ID: 10057\n",
      "Movie: 一首搖滾上月球, ID: 4887\n",
      "Movie: 錢不夠用2, ID: 3026\n"
     ]
    }
   ],
   "source": [
    "# 查看目前上映那些電影，並擷取出其ID資訊\n",
    "url = 'https://movies.yahoo.com.tw/'\n",
    "resp = requests.get(url)\n",
    "resp.encoding = 'utf-8'\n",
    "\n",
    "soup = BeautifulSoup(resp.text, 'lxml')\n",
    "html = soup.find(\"select\", attrs={'name':'movie_id'})\n",
    "movie_item = html.find_all(\"option\", attrs={'data-name':re.compile('.*')})\n",
    "\n",
    "for p in movie_item:\n",
    "    print(\"Movie: %s, ID: %s\" % (p[\"data-name\"], p[\"value\"]))"
   ]
  },
  {
   "cell_type": "markdown",
   "metadata": {},
   "source": [
    "### 指定你有興趣的電影其ID，然後查詢其放映地區資訊。"
   ]
  },
  {
   "cell_type": "code",
   "execution_count": 11,
   "metadata": {},
   "outputs": [],
   "source": [
    "# 參考前一個步驟中擷取到的ID資訊，並指定ID\n",
    "movie_id = 10433"
   ]
  },
  {
   "cell_type": "code",
   "execution_count": 12,
   "metadata": {},
   "outputs": [
    {
     "name": "stdout",
     "output_type": "stream",
     "text": [
      "放映地區: 台北市, 代號(area_id): 28\n",
      "放映地區: 新北市, 代號(area_id): 8\n",
      "放映地區: 桃園, 代號(area_id): 16\n",
      "放映地區: 新竹, 代號(area_id): 20\n",
      "放映地區: 苗栗, 代號(area_id): 15\n",
      "放映地區: 台中, 代號(area_id): 2\n",
      "放映地區: 南投, 代號(area_id): 13\n",
      "放映地區: 雲林, 代號(area_id): 19\n",
      "放映地區: 嘉義, 代號(area_id): 21\n",
      "放映地區: 台南, 代號(area_id): 10\n",
      "放映地區: 高雄, 代號(area_id): 17\n",
      "放映地區: 屏東, 代號(area_id): 14\n",
      "放映地區: 基隆, 代號(area_id): 18\n",
      "放映地區: 宜蘭, 代號(area_id): 11\n",
      "放映地區: 花蓮, 代號(area_id): 12\n",
      "放映地區: 台東, 代號(area_id): 9\n",
      "放映地區: 金門, 代號(area_id): 24\n"
     ]
    }
   ],
   "source": [
    "url = 'https://movies.yahoo.com.tw/api/v1/areas_by_movie_theater'\n",
    "payload = {'movie_id':str(movie_id)}\n",
    "\n",
    "# 模擬一個header\n",
    "headers = {\n",
    "    'authority': 'movies.yahoo.com.tw',\n",
    "    'method': 'GET',\n",
    "    'path': '/api/v1/areas_by_movie_theater?movie_id=' + str(movie_id),\n",
    "    'scheme': 'https',\n",
    "    'accept': 'application/json, text/javascript, */*; q=0.01',\n",
    "    'accept-encoding': 'gzip, deflate, br',\n",
    "    'accept-language': 'zh-TW,zh;q=0.9,en-US;q=0.8,en;q=0.7,zh-CN;q=0.6',\n",
    "    'cookie': 'rxx=9s3x2fws06.1g16irnc&v=1; _ga=GA1.3.2056742944.1551651301; GUC=AQEBAQFczFpdm0IfmwSB&s=AQAAACoo4N5D&g=XMsVBw; BX=4hkdk1decm57t&b=3&s=mr; _ga=GA1.4.2056742944.1551651301; nexagesuid=82843256dd234e8e91aa73f2062f8218; browsed_movie=eyJpdiI6IlJXWWtiSWJaZlNGK2MxQnhscnVUYWc9PSIsInZhbHVlIjoiMXRhMmVHRXRIeUNjc1RBWDJzdGYwbnlIQURmWGsrcjJSMzhkbkcraDNJVUNIZEZsbzU3amlFcVZ1NzlmazJrTGpoMjVrbHk1YmpoRENXaHZTOUw1TmI2ZTZVWHdOejZQZm16RmVuMWlHTTJLaTZLVFZZVkFOMDlTd1wvSGltcytJIiwibWFjIjoiZWQ2ZjA4MmVjZmZlYjlmNjJmYmY2NGMyMDI0Njc0NWViYjVkOWE2NDg0N2RhODMxZjBjZDhiMmJhZTc2MDZhYiJ9; avi=eyJpdiI6Im1NeWFJRlVRWDR1endEcGRGUGJUbVE9PSIsInZhbHVlIjoickRpU3JuUytmcGl6cjF5OW0rNU9iZz09IiwibWFjIjoiY2VmY2NkNzZmM2NhNjY5YzlkOTcyNjE5OGEyMzU0NWYxOTdmMDRkMDY3OWNmMmZjOTMxYjc5MjI5N2Q5NGE5MiJ9; cmp=t=1559391030&j=0; _gid=GA1.4.779543841.1559391031; XSRF-TOKEN=eyJpdiI6IkhpS2hGcDRQaHlmWUJmaHdSS2Q2bHc9PSIsInZhbHVlIjoiOUVoNFk4OHI1UUZmUWRtYXhza0MyWjJSTlhlZ3RnT0VGeVJPN2JuczVRMGRFdWt2OUlsamVKeHRobFwvcHBGM0dhU3VyMXNGTHlsb2dVM2l0U1hpUGxBPT0iLCJtYWMiOiJkZWU4YzJhNjAxMTY3MzE4Y2ExNWIxYmE1ZjE1YWZlZTlhOTcyYjc4M2RlZGY4ZWNjZDYyMTA2NGYwZGViMzc2In0%3D; m_s=eyJpdiI6InpsZHZ2Tk1BZ0dxaHhETml1RjBnUXc9PSIsInZhbHVlIjoiSkNGeHUranRoXC85bDFiaDhySTJqNkJRcWdjWUxjeVRJSHVYZ1wvd2d4bWJZUTUrSHVDM0lUcW5KNHdETFZ4T1lieU81OUhzc1VoUXhZcWk0UDZSQXVFdz09IiwibWFjIjoiYmJkMDJkMDhlODIzMzcyMWY4M2NmYWNjNGVlOWRjMDIwZmVmNzAyMjE3Yzg3ZGY3ODBkZWEzZTI4MTI5ZWNmOSJ9; _gat=1; nexagesd=10',\n",
    "    'dnt': '1',\n",
    "    'mv-authorization': '21835b082e15b91a69b3851eec7b31b82ce82afb',\n",
    "    'referer': 'https://movies.yahoo.com.tw/',\n",
    "    'user-agent': 'Mozilla/5.0 (Windows NT 10.0; Win64; x64) AppleWebKit/537.36 (KHTML, like Gecko) Chrome/74.0.3729.169 Safari/537.36',\n",
    "    'x-requested-with': 'XMLHttpRequest',\n",
    "}\n",
    "    \n",
    "resp = requests.get(url, params=payload, headers=headers)\n",
    "#print(resp.json())  # 若有需要，列印出json原始碼\n",
    "\n",
    "# 這裡回傳的格式是JSON格式的資料，要解析JSON擷取資料\n",
    "for p in resp.json():\n",
    "    print('放映地區: {0}, 代號(area_id): {1}'.format(p['title'], p['area_id']))"
   ]
  },
  {
   "cell_type": "markdown",
   "metadata": {},
   "source": [
    "### 指定你想要觀看的放映地區，查詢有上映電影的場次日期"
   ]
  },
  {
   "cell_type": "code",
   "execution_count": 13,
   "metadata": {},
   "outputs": [],
   "source": [
    "# 指定放映地區\n",
    "area_id = 28"
   ]
  },
  {
   "cell_type": "code",
   "execution_count": 14,
   "metadata": {},
   "outputs": [
    {
     "name": "stdout",
     "output_type": "stream",
     "text": [
      "十月 16\n",
      "十月 17\n",
      "十月 18\n",
      "十月 19\n",
      "十月 20\n"
     ]
    }
   ],
   "source": [
    "# 向網站發送請求\n",
    "url = 'https://movies.yahoo.com.tw/movietime_result.html'\n",
    "payload = {'movie_id':str(movie_id), 'area_id':str(area_id)}\n",
    "resp = requests.get(url, params=payload)\n",
    "resp.encoding = 'utf-8'\n",
    "\n",
    "soup = BeautifulSoup(resp.text, 'lxml')\n",
    "movie_date = soup.find_all(\"label\", attrs={'for':re.compile(\"date_[\\d]\")})\n",
    "\n",
    "# 列印播放日期\n",
    "for date in movie_date:\n",
    "    print(\"%s %s\" % (date.p.string, date.h3.string))"
   ]
  },
  {
   "cell_type": "markdown",
   "metadata": {},
   "source": [
    "### 最後指定觀看的日期，查詢並列印出放映的電影院、放映類型(數位、3D、IMAX 3D...)、放映時間等資訊。"
   ]
  },
  {
   "cell_type": "code",
   "execution_count": 15,
   "metadata": {},
   "outputs": [],
   "source": [
    "# 選定要觀看的日期\n",
    "date = \"2020-10-20\""
   ]
  },
  {
   "cell_type": "code",
   "execution_count": 16,
   "metadata": {},
   "outputs": [],
   "source": [
    "# 向網站發送請求，獲取上映的電影院及時間資訊\n",
    "url = \"https://movies.yahoo.com.tw/ajax/pc/get_schedule_by_movie\"\n",
    "payload = {'movie_id':str(movie_id),\n",
    "           'date':date,\n",
    "           'area_id':str(area_id),\n",
    "           'theater_id':'',\n",
    "           'datetime':'',\n",
    "           'movie_type_id':''}\n",
    "\n",
    "resp = requests.get(url, params=payload)\n",
    "#print(resp.json()['view'])  # 若有需要，列印出json原始碼\n",
    "\n",
    "soup = BeautifulSoup(resp.json()['view'], 'lxml')\n",
    "html = soup.find_all(\"ul\", attrs={'data-theater_name':re.compile(\".*\")})"
   ]
  },
  {
   "cell_type": "code",
   "execution_count": 19,
   "metadata": {},
   "outputs": [
    {
     "name": "stdout",
     "output_type": "stream",
     "text": [
      "------------------------------------------------------------------\n",
      "電影院:  台北美麗華大直影城\n",
      "放映類型:  數位\n",
      "2020-10-20 09:50:00\n",
      "2020-10-20 14:10:00\n",
      "2020-10-20 18:30:00\n",
      "放映類型:  IMAX\n",
      "2020-10-20 12:50:00\n",
      "2020-10-20 22:10:00\n",
      "------------------------------------------------------------------\n",
      "電影院:  台北信義威秀影城\n",
      "放映類型:  數位\n",
      "2020-10-20 09:40:00\n",
      "2020-10-20 12:25:00\n",
      "2020-10-20 15:10:00\n",
      "2020-10-20 17:55:00\n",
      "2020-10-20 20:45:00\n",
      "2020-10-20 23:35:00\n",
      "------------------------------------------------------------------\n",
      "電影院:  京站威秀影城\n",
      "放映類型:  數位\n",
      "2020-10-20 13:35:00\n",
      "2020-10-20 21:30:00\n",
      "------------------------------------------------------------------\n",
      "電影院:  梅花數位影院\n",
      "放映類型:  數位\n",
      "2020-10-20 16:20:00\n",
      "------------------------------------------------------------------\n",
      "電影院:  喜樂時代影城南港店\n",
      "放映類型:  數位\n",
      "2020-10-20 11:00:00\n",
      "2020-10-20 13:45:00\n",
      "2020-10-20 16:30:00\n",
      "2020-10-20 19:15:00\n",
      "2020-10-20 22:00:00\n",
      "------------------------------------------------------------------\n",
      "電影院:  MUVIE CINEMAS台北松仁威秀\n",
      "放映類型:  數位\n",
      "2020-10-20 19:20:00\n",
      "2020-10-20 22:25:00\n"
     ]
    }
   ],
   "source": [
    "'''\n",
    "  試著從上一步驟回傳的電影院資料中，擷取電影院名稱、影片放映類型以及時間表\n",
    "'''\n",
    "\n",
    "for theater in html:\n",
    "    print(\"------------------------------------------------------------------\")\n",
    "    print(\"電影院:  \" + theater['data-theater_name'])\n",
    "    movie_info = theater.find_all(\"li\", attrs={\"class\":\"taps\"})\n",
    "    taps= []\n",
    "    for info in movie_info:\n",
    "        movie_type = info.find_all(\"span\")\n",
    "        tap = []\n",
    "        for mtype in movie_type:\n",
    "            tap.append(mtype.text)\n",
    "        taps.append(' '.join(tap))\n",
    "    movie_info = theater.find_all(\"div\", attrs={\"class\":\"input_picker jq_input_picker\"})\n",
    "    for info in range(len(movie_info)):\n",
    "        print(\"放映類型:  \" + taps[info])\n",
    "        schedule_list = movie_info[info].find_all(\"input\", attrs={\"class\":\"gabtn\"})\n",
    "        for schedule in schedule_list:\n",
    "            print(schedule['value'])"
   ]
  },
  {
   "cell_type": "code",
   "execution_count": null,
   "metadata": {},
   "outputs": [],
   "source": []
  }
 ],
 "metadata": {
  "kernelspec": {
   "display_name": "Python 3",
   "language": "python",
   "name": "python3"
  },
  "language_info": {
   "codemirror_mode": {
    "name": "ipython",
    "version": 3
   },
   "file_extension": ".py",
   "mimetype": "text/x-python",
   "name": "python",
   "nbconvert_exporter": "python",
   "pygments_lexer": "ipython3",
   "version": "3.7.3"
  }
 },
 "nbformat": 4,
 "nbformat_minor": 2
}
